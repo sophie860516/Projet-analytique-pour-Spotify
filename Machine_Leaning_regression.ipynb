{
 "cells": [
  {
   "cell_type": "code",
   "execution_count": 1,
   "id": "2ccfcb7e",
   "metadata": {},
   "outputs": [
    {
     "data": {
      "text/html": [
       "<div>\n",
       "<style scoped>\n",
       "    .dataframe tbody tr th:only-of-type {\n",
       "        vertical-align: middle;\n",
       "    }\n",
       "\n",
       "    .dataframe tbody tr th {\n",
       "        vertical-align: top;\n",
       "    }\n",
       "\n",
       "    .dataframe thead th {\n",
       "        text-align: right;\n",
       "    }\n",
       "</style>\n",
       "<table border=\"1\" class=\"dataframe\">\n",
       "  <thead>\n",
       "    <tr style=\"text-align: right;\">\n",
       "      <th></th>\n",
       "      <th>ID</th>\n",
       "      <th>Artistes</th>\n",
       "      <th>Titre</th>\n",
       "      <th>Durée</th>\n",
       "      <th>Année</th>\n",
       "      <th>Valence</th>\n",
       "      <th>Acoustique</th>\n",
       "      <th>Dansant</th>\n",
       "      <th>Énergie</th>\n",
       "      <th>Explicite</th>\n",
       "      <th>Instrumental</th>\n",
       "      <th>Tonalité</th>\n",
       "      <th>Direct</th>\n",
       "      <th>Intensité</th>\n",
       "      <th>Mode</th>\n",
       "      <th>Discours</th>\n",
       "      <th>Tempo</th>\n",
       "      <th>Popularité</th>\n",
       "    </tr>\n",
       "  </thead>\n",
       "  <tbody>\n",
       "    <tr>\n",
       "      <th>0</th>\n",
       "      <td>4BJqT0PrAfrxzMOxytFOIz</td>\n",
       "      <td>['Sergei Rachmaninoff', 'James Levine', 'Berli...</td>\n",
       "      <td>Piano Concerto No. 3 in D Minor, Op. 30: III. ...</td>\n",
       "      <td>831667</td>\n",
       "      <td>1921</td>\n",
       "      <td>0.0594</td>\n",
       "      <td>0.98200</td>\n",
       "      <td>0.279</td>\n",
       "      <td>0.211</td>\n",
       "      <td>Non</td>\n",
       "      <td>0.878000</td>\n",
       "      <td>10.0</td>\n",
       "      <td>0.6650</td>\n",
       "      <td>-20.096</td>\n",
       "      <td>Majeur</td>\n",
       "      <td>0.0366</td>\n",
       "      <td>80.954</td>\n",
       "      <td>4</td>\n",
       "    </tr>\n",
       "    <tr>\n",
       "      <th>1</th>\n",
       "      <td>7xPhfUan2yNtyFG0cUWkt8</td>\n",
       "      <td>['Dennis Day']</td>\n",
       "      <td>Clancy Lowered the Boom</td>\n",
       "      <td>180533</td>\n",
       "      <td>1921</td>\n",
       "      <td>0.9630</td>\n",
       "      <td>0.73200</td>\n",
       "      <td>0.819</td>\n",
       "      <td>0.341</td>\n",
       "      <td>Non</td>\n",
       "      <td>0.000000</td>\n",
       "      <td>7.0</td>\n",
       "      <td>0.1600</td>\n",
       "      <td>NaN</td>\n",
       "      <td>Majeur</td>\n",
       "      <td>0.4150</td>\n",
       "      <td>60.936</td>\n",
       "      <td>5</td>\n",
       "    </tr>\n",
       "    <tr>\n",
       "      <th>2</th>\n",
       "      <td>1o6I8BglA6ylDMrIELygv1</td>\n",
       "      <td>['KHP Kridhamardawa Karaton Ngayogyakarta Hadi...</td>\n",
       "      <td>Gati Bali</td>\n",
       "      <td>500062</td>\n",
       "      <td>1921</td>\n",
       "      <td>0.0394</td>\n",
       "      <td>0.96100</td>\n",
       "      <td>0.328</td>\n",
       "      <td>0.166</td>\n",
       "      <td>Non</td>\n",
       "      <td>0.913000</td>\n",
       "      <td>3.0</td>\n",
       "      <td>0.1010</td>\n",
       "      <td>-14.850</td>\n",
       "      <td>Majeur</td>\n",
       "      <td>0.0339</td>\n",
       "      <td>110.339</td>\n",
       "      <td>5</td>\n",
       "    </tr>\n",
       "    <tr>\n",
       "      <th>3</th>\n",
       "      <td>3ftBPsC5vPBKxYSee08FDH</td>\n",
       "      <td>['Frank Parker']</td>\n",
       "      <td>Danny Boy</td>\n",
       "      <td>210000</td>\n",
       "      <td>1921</td>\n",
       "      <td>0.1650</td>\n",
       "      <td>0.96700</td>\n",
       "      <td>0.275</td>\n",
       "      <td>0.309</td>\n",
       "      <td>Non</td>\n",
       "      <td>0.000028</td>\n",
       "      <td>5.0</td>\n",
       "      <td>0.3810</td>\n",
       "      <td>-9.316</td>\n",
       "      <td>Majeur</td>\n",
       "      <td>0.0354</td>\n",
       "      <td>100.109</td>\n",
       "      <td>3</td>\n",
       "    </tr>\n",
       "    <tr>\n",
       "      <th>4</th>\n",
       "      <td>4d6HGyGT8e121BsdKmw9v6</td>\n",
       "      <td>['Phil Regan']</td>\n",
       "      <td>When Irish Eyes Are Smiling</td>\n",
       "      <td>166693</td>\n",
       "      <td>1921</td>\n",
       "      <td>0.2530</td>\n",
       "      <td>0.95700</td>\n",
       "      <td>0.418</td>\n",
       "      <td>0.193</td>\n",
       "      <td>Non</td>\n",
       "      <td>0.000002</td>\n",
       "      <td>3.0</td>\n",
       "      <td>0.2290</td>\n",
       "      <td>-10.096</td>\n",
       "      <td>Majeur</td>\n",
       "      <td>0.0380</td>\n",
       "      <td>101.665</td>\n",
       "      <td>2</td>\n",
       "    </tr>\n",
       "    <tr>\n",
       "      <th>...</th>\n",
       "      <td>...</td>\n",
       "      <td>...</td>\n",
       "      <td>...</td>\n",
       "      <td>...</td>\n",
       "      <td>...</td>\n",
       "      <td>...</td>\n",
       "      <td>...</td>\n",
       "      <td>...</td>\n",
       "      <td>...</td>\n",
       "      <td>...</td>\n",
       "      <td>...</td>\n",
       "      <td>...</td>\n",
       "      <td>...</td>\n",
       "      <td>...</td>\n",
       "      <td>...</td>\n",
       "      <td>...</td>\n",
       "      <td>...</td>\n",
       "      <td>...</td>\n",
       "    </tr>\n",
       "    <tr>\n",
       "      <th>170648</th>\n",
       "      <td>0KkIkfsLEJbrcIhYsCL7L5</td>\n",
       "      <td>['Anuel AA', 'Daddy Yankee', 'KAROL G', 'Ozuna...</td>\n",
       "      <td>China</td>\n",
       "      <td>301714</td>\n",
       "      <td>2020</td>\n",
       "      <td>0.6080</td>\n",
       "      <td>0.08460</td>\n",
       "      <td>0.786</td>\n",
       "      <td>0.808</td>\n",
       "      <td>Non</td>\n",
       "      <td>0.000289</td>\n",
       "      <td>7.0</td>\n",
       "      <td>0.0822</td>\n",
       "      <td>-3.702</td>\n",
       "      <td>Majeur</td>\n",
       "      <td>0.0881</td>\n",
       "      <td>105.029</td>\n",
       "      <td>72</td>\n",
       "    </tr>\n",
       "    <tr>\n",
       "      <th>170649</th>\n",
       "      <td>0OStKKAuXlxA0fMH54Qs6E</td>\n",
       "      <td>['Ashnikko']</td>\n",
       "      <td>Halloweenie III: Seven Days</td>\n",
       "      <td>150654</td>\n",
       "      <td>2020</td>\n",
       "      <td>0.7340</td>\n",
       "      <td>0.20600</td>\n",
       "      <td>0.717</td>\n",
       "      <td>0.753</td>\n",
       "      <td>Non</td>\n",
       "      <td>0.000000</td>\n",
       "      <td>7.0</td>\n",
       "      <td>0.1010</td>\n",
       "      <td>-6.020</td>\n",
       "      <td>Majeur</td>\n",
       "      <td>0.0605</td>\n",
       "      <td>137.936</td>\n",
       "      <td>68</td>\n",
       "    </tr>\n",
       "    <tr>\n",
       "      <th>170650</th>\n",
       "      <td>4BZXVFYCb76Q0Klojq4piV</td>\n",
       "      <td>['MAMAMOO']</td>\n",
       "      <td>AYA</td>\n",
       "      <td>211280</td>\n",
       "      <td>2020</td>\n",
       "      <td>0.6370</td>\n",
       "      <td>0.10100</td>\n",
       "      <td>0.634</td>\n",
       "      <td>0.858</td>\n",
       "      <td>Non</td>\n",
       "      <td>0.000009</td>\n",
       "      <td>4.0</td>\n",
       "      <td>0.2580</td>\n",
       "      <td>-2.226</td>\n",
       "      <td>Mineur</td>\n",
       "      <td>0.0809</td>\n",
       "      <td>91.688</td>\n",
       "      <td>76</td>\n",
       "    </tr>\n",
       "    <tr>\n",
       "      <th>170651</th>\n",
       "      <td>5SiZJoLXp3WOl3J4C8IK0d</td>\n",
       "      <td>['Eminem']</td>\n",
       "      <td>Darkness</td>\n",
       "      <td>337147</td>\n",
       "      <td>2020</td>\n",
       "      <td>0.1950</td>\n",
       "      <td>0.00998</td>\n",
       "      <td>0.671</td>\n",
       "      <td>0.623</td>\n",
       "      <td>Oui</td>\n",
       "      <td>0.000008</td>\n",
       "      <td>2.0</td>\n",
       "      <td>0.6430</td>\n",
       "      <td>-7.161</td>\n",
       "      <td>Majeur</td>\n",
       "      <td>0.3080</td>\n",
       "      <td>75.055</td>\n",
       "      <td>70</td>\n",
       "    </tr>\n",
       "    <tr>\n",
       "      <th>170652</th>\n",
       "      <td>7HmnJHfs0BkFzX4x8j0hkl</td>\n",
       "      <td>['KEVVO', 'J Balvin']</td>\n",
       "      <td>Billetes Azules (with J Balvin)</td>\n",
       "      <td>189507</td>\n",
       "      <td>2020</td>\n",
       "      <td>0.6420</td>\n",
       "      <td>0.13200</td>\n",
       "      <td>0.856</td>\n",
       "      <td>0.721</td>\n",
       "      <td>Oui</td>\n",
       "      <td>0.004710</td>\n",
       "      <td>7.0</td>\n",
       "      <td>0.1820</td>\n",
       "      <td>-4.928</td>\n",
       "      <td>Majeur</td>\n",
       "      <td>0.1080</td>\n",
       "      <td>94.991</td>\n",
       "      <td>74</td>\n",
       "    </tr>\n",
       "  </tbody>\n",
       "</table>\n",
       "<p>170653 rows × 18 columns</p>\n",
       "</div>"
      ],
      "text/plain": [
       "                            ID  \\\n",
       "0       4BJqT0PrAfrxzMOxytFOIz   \n",
       "1       7xPhfUan2yNtyFG0cUWkt8   \n",
       "2       1o6I8BglA6ylDMrIELygv1   \n",
       "3       3ftBPsC5vPBKxYSee08FDH   \n",
       "4       4d6HGyGT8e121BsdKmw9v6   \n",
       "...                        ...   \n",
       "170648  0KkIkfsLEJbrcIhYsCL7L5   \n",
       "170649  0OStKKAuXlxA0fMH54Qs6E   \n",
       "170650  4BZXVFYCb76Q0Klojq4piV   \n",
       "170651  5SiZJoLXp3WOl3J4C8IK0d   \n",
       "170652  7HmnJHfs0BkFzX4x8j0hkl   \n",
       "\n",
       "                                                 Artistes  \\\n",
       "0       ['Sergei Rachmaninoff', 'James Levine', 'Berli...   \n",
       "1                                          ['Dennis Day']   \n",
       "2       ['KHP Kridhamardawa Karaton Ngayogyakarta Hadi...   \n",
       "3                                        ['Frank Parker']   \n",
       "4                                          ['Phil Regan']   \n",
       "...                                                   ...   \n",
       "170648  ['Anuel AA', 'Daddy Yankee', 'KAROL G', 'Ozuna...   \n",
       "170649                                       ['Ashnikko']   \n",
       "170650                                        ['MAMAMOO']   \n",
       "170651                                         ['Eminem']   \n",
       "170652                              ['KEVVO', 'J Balvin']   \n",
       "\n",
       "                                                    Titre   Durée  Année  \\\n",
       "0       Piano Concerto No. 3 in D Minor, Op. 30: III. ...  831667   1921   \n",
       "1                                 Clancy Lowered the Boom  180533   1921   \n",
       "2                                               Gati Bali  500062   1921   \n",
       "3                                               Danny Boy  210000   1921   \n",
       "4                             When Irish Eyes Are Smiling  166693   1921   \n",
       "...                                                   ...     ...    ...   \n",
       "170648                                              China  301714   2020   \n",
       "170649                        Halloweenie III: Seven Days  150654   2020   \n",
       "170650                                                AYA  211280   2020   \n",
       "170651                                           Darkness  337147   2020   \n",
       "170652                    Billetes Azules (with J Balvin)  189507   2020   \n",
       "\n",
       "        Valence  Acoustique  Dansant  Énergie Explicite  Instrumental  \\\n",
       "0        0.0594     0.98200    0.279    0.211       Non      0.878000   \n",
       "1        0.9630     0.73200    0.819    0.341       Non      0.000000   \n",
       "2        0.0394     0.96100    0.328    0.166       Non      0.913000   \n",
       "3        0.1650     0.96700    0.275    0.309       Non      0.000028   \n",
       "4        0.2530     0.95700    0.418    0.193       Non      0.000002   \n",
       "...         ...         ...      ...      ...       ...           ...   \n",
       "170648   0.6080     0.08460    0.786    0.808       Non      0.000289   \n",
       "170649   0.7340     0.20600    0.717    0.753       Non      0.000000   \n",
       "170650   0.6370     0.10100    0.634    0.858       Non      0.000009   \n",
       "170651   0.1950     0.00998    0.671    0.623       Oui      0.000008   \n",
       "170652   0.6420     0.13200    0.856    0.721       Oui      0.004710   \n",
       "\n",
       "        Tonalité  Direct  Intensité    Mode  Discours    Tempo  Popularité  \n",
       "0           10.0  0.6650    -20.096  Majeur    0.0366   80.954           4  \n",
       "1            7.0  0.1600        NaN  Majeur    0.4150   60.936           5  \n",
       "2            3.0  0.1010    -14.850  Majeur    0.0339  110.339           5  \n",
       "3            5.0  0.3810     -9.316  Majeur    0.0354  100.109           3  \n",
       "4            3.0  0.2290    -10.096  Majeur    0.0380  101.665           2  \n",
       "...          ...     ...        ...     ...       ...      ...         ...  \n",
       "170648       7.0  0.0822     -3.702  Majeur    0.0881  105.029          72  \n",
       "170649       7.0  0.1010     -6.020  Majeur    0.0605  137.936          68  \n",
       "170650       4.0  0.2580     -2.226  Mineur    0.0809   91.688          76  \n",
       "170651       2.0  0.6430     -7.161  Majeur    0.3080   75.055          70  \n",
       "170652       7.0  0.1820     -4.928  Majeur    0.1080   94.991          74  \n",
       "\n",
       "[170653 rows x 18 columns]"
      ]
     },
     "execution_count": 1,
     "metadata": {},
     "output_type": "execute_result"
    }
   ],
   "source": [
    "import numpy as np\n",
    "import pandas as pd\n",
    "import matplotlib.pyplot as plt\n",
    "import seaborn as sns\n",
    "df_fichier = pd.read_csv(\"./fichiers/Spotify.csv\", sep = \",\")\n",
    "df_fichier"
   ]
  },
  {
   "cell_type": "code",
   "execution_count": 79,
   "id": "559229f9",
   "metadata": {},
   "outputs": [
    {
     "data": {
      "image/png": "[encoded data removed]",
      "text/plain": [
       "<Figure size 800x600 with 1 Axes>"
      ]
     },
     "metadata": {},
     "output_type": "display_data"
    }
   ],
   "source": [
    "def addlabels(x,y):\n",
    "    for i in range(len(x)):\n",
    "        plt.text(i,y[i],'{:,}'.format(y[i]).replace(',', ' '))\n",
    "        \n",
    "#version virgule: f'{y[i]: ^.0f}'\n",
    "\n",
    "# Création des catégories de popularité \n",
    "\n",
    "categories_popularite = ['zéro populaire','Pas du tout populaire', 'Peu populaire', 'Moyennement populaire', 'Populaire', 'Très populaire'] \n",
    "\n",
    "  \n",
    "\n",
    "# Définition des intervalles pour les catégories \n",
    "\n",
    "bornes_intervalles = [ -1,0, 20,40,60, 80,100]  \n",
    "\n",
    "  \n",
    "\n",
    "# Regroupement des morceaux par catégories de popularité \n",
    "\n",
    "df_fichier['CategoriePopularite'] = pd.cut(df_fichier['Popularité'], bins=bornes_intervalles, labels=categories_popularite) \n",
    "\n",
    "  \n",
    "\n",
    "# Compter le nombre de morceaux dans chaque catégorie \n",
    "\n",
    "nombre_morceaux_par_categorie = df_fichier['CategoriePopularite'].value_counts().sort_index() \n",
    "\n",
    "\n",
    "# Création de l'histogramme \n",
    "\n",
    "plt.figure(figsize=(8, 6)) \n",
    "\n",
    "nombre_morceaux_par_categorie.plot(kind='bar', color='skyblue') \n",
    "\n",
    "plt.title('Distribution de la Popularité en catégories') \n",
    "\n",
    "plt.xlabel('Catégories de Popularité') \n",
    "\n",
    "plt.ylabel('Nombre de Morceaux') \n",
    "\n",
    "addlabels(categories_popularite, nombre_morceaux_par_categorie )\n",
    "\n",
    "plt.xticks(rotation=45) \n",
    "\n",
    "plt.tight_layout() \n",
    "\n",
    "plt.show() "
   ]
  },
  {
   "cell_type": "code",
   "execution_count": 84,
   "id": "fca5fbc5",
   "metadata": {},
   "outputs": [
    {
     "data": {
      "text/plain": [
       "<Figure size 1000x600 with 0 Axes>"
      ]
     },
     "metadata": {},
     "output_type": "display_data"
    },
    {
     "data": {
      "image/png": "[encoded data removed]",
      "text/plain": [
       "<Figure size 1000x600 with 1 Axes>"
      ]
     },
     "metadata": {},
     "output_type": "display_data"
    }
   ],
   "source": [
    "plt.figure(figsize=(10, 6))\n",
    "sns.histplot(df_fichier['Popularité'], bins=20, kde=True, color='skyblue')\n",
    "plt.title('Distribution de la Popularité des Chansons')\n",
    "plt.xlabel('Popularité')\n",
    "plt.ylabel('Fréquence')\n",
    "plt.show()"
   ]
  },
  {
   "cell_type": "code",
   "execution_count": 80,
   "id": "60337773",
   "metadata": {},
   "outputs": [
    {
     "data": {
      "image/png": "[encoded data removed]",
      "text/plain": [
       "<Figure size 1200x800 with 1 Axes>"
      ]
     },
     "metadata": {},
     "output_type": "display_data"
    }
   ],
   "source": [
    "#regrouper les années par décennie\n",
    "décennie = df_fichier[\"Année\"]//10*10\n",
    "\n",
    "#popularité moyenne par décennie\n",
    "grouped_décennie= pd.DataFrame(df_fichier.groupby(décennie)[\"Popularité\"].mean()).reset_index()\n",
    "\n",
    "#grouped_décennie\n",
    "\n",
    "#diagramme à bâtonnets\n",
    "plt.rcParams.update(plt.rcParamsDefault)\n",
    "plt.style.use(\"ggplot\")\n",
    "\n",
    "fig, ax = plt.subplots(figsize = (12,8))\n",
    "\n",
    "ax.bar(grouped_décennie[\"Année\"], grouped_décennie[\"Popularité\"],width = 5,color = \"skyblue\")\n",
    "ax.plot(grouped_décennie[\"Année\"], grouped_décennie[\"Popularité\"])\n",
    "\n",
    "ax.set_ylabel(\"Popularité\")\n",
    "ax.axhline(df_fichier[\"Popularité\"].mean(), color = \"black\",linestyle = \"--\")\n",
    "plt.title(\"Popularité moyenne par décennie\") \n",
    "\n",
    "\n",
    "plt.savefig(\"popularité_bar_an.png\")\n",
    "plt.show()"
   ]
  },
  {
   "cell_type": "code",
   "execution_count": 81,
   "id": "56cf3d84",
   "metadata": {
    "scrolled": true
   },
   "outputs": [
    {
     "data": {
      "image/png": "[encoded data removed]",
      "text/plain": [
       "<Figure size 1200x800 with 2 Axes>"
      ]
     },
     "metadata": {},
     "output_type": "display_data"
    }
   ],
   "source": [
    "#Examiner la corrélation entre la popularité et les autres variables\n",
    "test = df_fichier.select_dtypes(include = [\"number\"])\n",
    "corr = test.corr(method = \"pearson\")\n",
    "\n",
    "fig, ax = plt.subplots(figsize=(12,8))\n",
    "hm = sns.heatmap(data = corr,annot=True,fmt=\".2f\", linewidth=.6)\n",
    "plt.show()"
   ]
  },
  {
   "cell_type": "code",
   "execution_count": 82,
   "id": "2d87275f",
   "metadata": {},
   "outputs": [
    {
     "data": {
      "text/plain": [
       "ID                        0\n",
       "Artistes                  0\n",
       "Titre                     0\n",
       "Durée                     0\n",
       "Année                     0\n",
       "Valence                4682\n",
       "Acoustique             3558\n",
       "Dansant                3720\n",
       "Énergie                4699\n",
       "Explicite              8251\n",
       "Instrumental           1894\n",
       "Tonalité               7618\n",
       "Direct                  651\n",
       "Intensité              7452\n",
       "Mode                     88\n",
       "Discours               6581\n",
       "Tempo                     0\n",
       "Popularité                0\n",
       "CategoriePopularite       0\n",
       "dtype: int64"
      ]
     },
     "execution_count": 82,
     "metadata": {},
     "output_type": "execute_result"
    }
   ],
   "source": [
    "df_fichier.isna().sum()"
   ]
  },
  {
   "cell_type": "code",
   "execution_count": 3,
   "id": "ff68976f",
   "metadata": {},
   "outputs": [
    {
     "data": {
      "text/plain": [
       "ID               object\n",
       "Artistes         object\n",
       "Titre            object\n",
       "Durée             int64\n",
       "Année             int64\n",
       "Valence         float64\n",
       "Acoustique      float64\n",
       "Dansant         float64\n",
       "Énergie         float64\n",
       "Explicite        object\n",
       "Instrumental    float64\n",
       "Tonalité        float64\n",
       "Direct          float64\n",
       "Intensité       float64\n",
       "Mode             object\n",
       "Discours        float64\n",
       "Tempo           float64\n",
       "Popularité        int64\n",
       "dtype: object"
      ]
     },
     "execution_count": 3,
     "metadata": {},
     "output_type": "execute_result"
    }
   ],
   "source": [
    "df_fichier.dtypes"
   ]
  },
  {
   "cell_type": "code",
   "execution_count": 4,
   "id": "053a0b1d",
   "metadata": {},
   "outputs": [
    {
     "data": {
      "text/plain": [
       "ID              170653\n",
       "Artistes         34088\n",
       "Titre           133638\n",
       "Durée            51755\n",
       "Année              100\n",
       "Valence           1729\n",
       "Acoustique        4677\n",
       "Dansant           1239\n",
       "Énergie           2321\n",
       "Explicite            2\n",
       "Instrumental      5401\n",
       "Tonalité            12\n",
       "Direct            1740\n",
       "Intensité        25210\n",
       "Mode                 2\n",
       "Discours          1624\n",
       "Tempo            84694\n",
       "Popularité         100\n",
       "dtype: int64"
      ]
     },
     "execution_count": 4,
     "metadata": {},
     "output_type": "execute_result"
    }
   ],
   "source": [
    "df_fichier.nunique()"
   ]
  },
  {
   "cell_type": "code",
   "execution_count": 5,
   "id": "f331ec56",
   "metadata": {},
   "outputs": [
    {
     "data": {
      "text/plain": [
       "ID           170653\n",
       "Artistes      34088\n",
       "Titre        133638\n",
       "Explicite         2\n",
       "Mode              2\n",
       "dtype: int64"
      ]
     },
     "execution_count": 5,
     "metadata": {},
     "output_type": "execute_result"
    }
   ],
   "source": [
    "df_fichier.select_dtypes(include = [\"object\"]).nunique()"
   ]
  },
  {
   "cell_type": "code",
   "execution_count": 6,
   "id": "e9dd9ab4",
   "metadata": {},
   "outputs": [],
   "source": [
    "#créer un df contenant tous les colonnes sauf popularité, ID, Titre, tempo et intensité \n",
    "X = df_fichier.drop([\"Popularité\", \"ID\", \"Titre\",\"Année\", \"Artistes\"], axis=1)"
   ]
  },
  {
   "cell_type": "code",
   "execution_count": 7,
   "id": "f20a3c01",
   "metadata": {},
   "outputs": [],
   "source": [
    "y = df_fichier[\"Popularité\"]"
   ]
  },
  {
   "cell_type": "code",
   "execution_count": 8,
   "id": "16cab121",
   "metadata": {},
   "outputs": [
    {
     "data": {
      "text/plain": [
       "['Explicite', 'Mode']"
      ]
     },
     "execution_count": 8,
     "metadata": {},
     "output_type": "execute_result"
    }
   ],
   "source": [
    "cat_cols = list(X.select_dtypes(include = [\"object\"]))\n",
    "cat_cols"
   ]
  },
  {
   "cell_type": "code",
   "execution_count": 9,
   "id": "47858644",
   "metadata": {},
   "outputs": [
    {
     "data": {
      "text/plain": [
       "['Durée',\n",
       " 'Valence',\n",
       " 'Acoustique',\n",
       " 'Dansant',\n",
       " 'Énergie',\n",
       " 'Instrumental',\n",
       " 'Tonalité',\n",
       " 'Direct',\n",
       " 'Intensité',\n",
       " 'Discours',\n",
       " 'Tempo']"
      ]
     },
     "execution_count": 9,
     "metadata": {},
     "output_type": "execute_result"
    }
   ],
   "source": [
    "num_cols = list(X.select_dtypes(exclude = [\"object\"]))\n",
    "num_cols"
   ]
  },
  {
   "cell_type": "code",
   "execution_count": 10,
   "id": "415a602e",
   "metadata": {},
   "outputs": [
    {
     "data": {
      "text/plain": [
       "13"
      ]
     },
     "execution_count": 10,
     "metadata": {},
     "output_type": "execute_result"
    }
   ],
   "source": [
    "X.shape[1]"
   ]
  },
  {
   "cell_type": "code",
   "execution_count": 11,
   "id": "2b45e404",
   "metadata": {},
   "outputs": [],
   "source": [
    "from sklearn.model_selection import train_test_split"
   ]
  },
  {
   "cell_type": "code",
   "execution_count": 12,
   "id": "e7558d03",
   "metadata": {},
   "outputs": [],
   "source": [
    "#séparer les données pour l'entraînement et le test\n",
    "X_train, X_test, y_train, y_test = train_test_split(\n",
    "    X, y, test_size = 0.2, random_state = 1\n",
    "    )"
   ]
  },
  {
   "cell_type": "code",
   "execution_count": 13,
   "id": "a48a179a",
   "metadata": {},
   "outputs": [],
   "source": [
    "#séprarer une partie des données en entraînement pour la validation\n",
    "X_train, X_val, y_train, y_val = train_test_split(\n",
    "    X_train, y_train, test_size = 0.25, random_state = 1\n",
    "    )"
   ]
  },
  {
   "cell_type": "code",
   "execution_count": 14,
   "id": "bf075234",
   "metadata": {},
   "outputs": [
    {
     "name": "stdout",
     "output_type": "stream",
     "text": [
      "X_train: (102391, 13)\n",
      "X_val: (34131, 13)\n",
      "X_test: (34131, 13)\n"
     ]
    }
   ],
   "source": [
    "print(\"X_train: {0}\".format(X_train.shape))\n",
    "print(\"X_val: {0}\".format(X_val.shape))\n",
    "print(\"X_test: {0}\".format(X_test.shape))"
   ]
  },
  {
   "cell_type": "code",
   "execution_count": 15,
   "id": "b7816a58",
   "metadata": {},
   "outputs": [],
   "source": [
    "X_train_num = X_train[num_cols]\n",
    "X_train_cat = X_train[cat_cols]\n",
    "\n",
    "X_val_num = X_val[num_cols]\n",
    "X_val_cat = X_val[cat_cols]\n",
    "\n",
    "X_test_num = X_test[num_cols]\n",
    "X_test_cat = X_test[cat_cols]"
   ]
  },
  {
   "cell_type": "code",
   "execution_count": 16,
   "id": "0f028659",
   "metadata": {},
   "outputs": [],
   "source": [
    "#conserver les indices\n",
    "index_train = X_train.index\n",
    "index_val = X_val.index\n",
    "index_test = X_test.index"
   ]
  },
  {
   "cell_type": "code",
   "execution_count": 17,
   "id": "ca0cdea4",
   "metadata": {},
   "outputs": [],
   "source": [
    "from sklearn.impute import SimpleImputer"
   ]
  },
  {
   "cell_type": "markdown",
   "id": "747b8dcc",
   "metadata": {},
   "source": [
    "#### Traiter les valeurs numériques manquantes\n"
   ]
  },
  {
   "cell_type": "code",
   "execution_count": 18,
   "id": "f734dbf8",
   "metadata": {},
   "outputs": [],
   "source": [
    "# On trouve la médiane de chaque colonne numérique\n",
    "imp_num = SimpleImputer(strategy = \"median\").fit(X_train_num)\n",
    "\n",
    "# On applique la médiane à chaque valeur manquante des trois échantillons\n",
    "X_train_num = imp_num.transform(X_train_num)\n",
    "X_val_num = imp_num.transform(X_val_num)\n",
    "X_test_num = imp_num.transform(X_test_num)\n",
    "\n",
    "# On convertit les arrays obtenus en dataframe en reprenant les mêmes noms de colonnes\n",
    "X_train_num = pd.DataFrame(X_train_num, columns =num_cols, index = index_train)\n",
    "X_val_num = pd.DataFrame(X_val_num, columns = num_cols, index = index_val)\n",
    "X_test_num = pd.DataFrame(X_test_num, columns = num_cols, index = index_test)"
   ]
  },
  {
   "cell_type": "markdown",
   "id": "740be6ff",
   "metadata": {},
   "source": [
    "#### Traiter les valeurs catégorielles manquantes"
   ]
  },
  {
   "cell_type": "code",
   "execution_count": 19,
   "id": "1d8cd1a7",
   "metadata": {},
   "outputs": [],
   "source": [
    "# Remplacez les données catégorielles manquantes\n",
    "# On trouve la médiane de chaque colonne numérique\n",
    "imp_cat = SimpleImputer(strategy = \"most_frequent\").fit(X_train_cat)\n",
    "\n",
    "# On applique la médiane à chaque valeur manquante des trois échantillons\n",
    "X_train_cat = imp_cat.transform(X_train_cat)\n",
    "X_val_cat = imp_cat.transform(X_val_cat)\n",
    "X_test_cat = imp_cat.transform(X_test_cat)\n",
    "\n",
    "# On convertit les arrays obtenus en dataframe en reprenant les mêmes noms de colonnes\n",
    "X_train_cat = pd.DataFrame(X_train_cat, columns = cat_cols, index = index_train)\n",
    "X_val_cat = pd.DataFrame(X_val_cat, columns = cat_cols, index = index_val)\n",
    "X_test_cat = pd.DataFrame(X_test_cat, columns = cat_cols, index = index_test)"
   ]
  },
  {
   "cell_type": "code",
   "execution_count": 20,
   "id": "40428351",
   "metadata": {},
   "outputs": [],
   "source": [
    "X_train = pd.concat([X_train_num, X_train_cat], axis = 1)\n",
    "X_val = pd.concat([X_val_num, X_val_cat], axis = 1)\n",
    "X_test = pd.concat([X_test_num, X_test_cat], axis = 1)"
   ]
  },
  {
   "cell_type": "markdown",
   "id": "462331cf",
   "metadata": {},
   "source": [
    "#### Encoder les variables catégorielles\n"
   ]
  },
  {
   "cell_type": "code",
   "execution_count": 21,
   "id": "527434f2",
   "metadata": {},
   "outputs": [],
   "source": [
    "from sklearn.compose import ColumnTransformer\n",
    "from sklearn.preprocessing  import RobustScaler, OneHotEncoder"
   ]
  },
  {
   "cell_type": "code",
   "execution_count": 22,
   "id": "cfb5058c",
   "metadata": {},
   "outputs": [],
   "source": [
    "# Encodez les variables catégorielles à l'aide de ColumnTransformer\n",
    "columnTransformer = ColumnTransformer(\n",
    "    transformers = [('encoder', OneHotEncoder(drop = \"first\"), cat_cols)],\n",
    "    remainder = \"passthrough\"\n",
    ")\n",
    "\n",
    "X_train = pd.DataFrame(\n",
    "    columnTransformer.fit_transform(X_train),\n",
    "    columns = columnTransformer.get_feature_names_out(),\n",
    "    index = index_train\n",
    ")\n",
    "\n",
    "X_val = pd.DataFrame(\n",
    "    columnTransformer.transform(X_val),\n",
    "    columns = columnTransformer.get_feature_names_out(),\n",
    "    index = index_val\n",
    ")\n",
    "\n",
    "X_test = pd.DataFrame(\n",
    "    columnTransformer.transform(X_test),\n",
    "    columns = columnTransformer.get_feature_names_out(),\n",
    "    index = index_test\n",
    ")"
   ]
  },
  {
   "cell_type": "code",
   "execution_count": 23,
   "id": "980cff1b",
   "metadata": {},
   "outputs": [],
   "source": [
    "# On conserve le nom des colonnes après l'encodage\n",
    "colonnes_apres_encodage = X_train.columns"
   ]
  },
  {
   "cell_type": "code",
   "execution_count": 24,
   "id": "1b14c84c",
   "metadata": {},
   "outputs": [
    {
     "data": {
      "text/html": [
       "<div>\n",
       "<style scoped>\n",
       "    .dataframe tbody tr th:only-of-type {\n",
       "        vertical-align: middle;\n",
       "    }\n",
       "\n",
       "    .dataframe tbody tr th {\n",
       "        vertical-align: top;\n",
       "    }\n",
       "\n",
       "    .dataframe thead th {\n",
       "        text-align: right;\n",
       "    }\n",
       "</style>\n",
       "<table border=\"1\" class=\"dataframe\">\n",
       "  <thead>\n",
       "    <tr style=\"text-align: right;\">\n",
       "      <th></th>\n",
       "      <th>encoder__Explicite_Oui</th>\n",
       "      <th>encoder__Mode_Mineur</th>\n",
       "      <th>remainder__Durée</th>\n",
       "      <th>remainder__Valence</th>\n",
       "      <th>remainder__Acoustique</th>\n",
       "      <th>remainder__Dansant</th>\n",
       "      <th>remainder__Énergie</th>\n",
       "      <th>remainder__Instrumental</th>\n",
       "      <th>remainder__Tonalité</th>\n",
       "      <th>remainder__Direct</th>\n",
       "      <th>remainder__Intensité</th>\n",
       "      <th>remainder__Discours</th>\n",
       "      <th>remainder__Tempo</th>\n",
       "    </tr>\n",
       "  </thead>\n",
       "  <tbody>\n",
       "    <tr>\n",
       "      <th>70892</th>\n",
       "      <td>0.0</td>\n",
       "      <td>0.0</td>\n",
       "      <td>295800.0</td>\n",
       "      <td>0.6480</td>\n",
       "      <td>0.0102</td>\n",
       "      <td>0.481</td>\n",
       "      <td>0.7820</td>\n",
       "      <td>0.000002</td>\n",
       "      <td>8.0</td>\n",
       "      <td>0.1270</td>\n",
       "      <td>-8.145</td>\n",
       "      <td>0.0717</td>\n",
       "      <td>169.985</td>\n",
       "    </tr>\n",
       "    <tr>\n",
       "      <th>113823</th>\n",
       "      <td>0.0</td>\n",
       "      <td>0.0</td>\n",
       "      <td>179000.0</td>\n",
       "      <td>0.6010</td>\n",
       "      <td>0.4660</td>\n",
       "      <td>0.672</td>\n",
       "      <td>0.0655</td>\n",
       "      <td>0.000031</td>\n",
       "      <td>9.0</td>\n",
       "      <td>0.1200</td>\n",
       "      <td>-22.342</td>\n",
       "      <td>0.0564</td>\n",
       "      <td>133.797</td>\n",
       "    </tr>\n",
       "    <tr>\n",
       "      <th>141052</th>\n",
       "      <td>0.0</td>\n",
       "      <td>0.0</td>\n",
       "      <td>201053.0</td>\n",
       "      <td>0.3580</td>\n",
       "      <td>0.9710</td>\n",
       "      <td>0.177</td>\n",
       "      <td>0.3560</td>\n",
       "      <td>0.187000</td>\n",
       "      <td>1.0</td>\n",
       "      <td>0.2790</td>\n",
       "      <td>-10.753</td>\n",
       "      <td>0.0373</td>\n",
       "      <td>85.286</td>\n",
       "    </tr>\n",
       "    <tr>\n",
       "      <th>50145</th>\n",
       "      <td>0.0</td>\n",
       "      <td>0.0</td>\n",
       "      <td>204507.0</td>\n",
       "      <td>0.1690</td>\n",
       "      <td>0.9220</td>\n",
       "      <td>0.349</td>\n",
       "      <td>0.2000</td>\n",
       "      <td>0.000038</td>\n",
       "      <td>0.0</td>\n",
       "      <td>0.1240</td>\n",
       "      <td>-15.878</td>\n",
       "      <td>0.0304</td>\n",
       "      <td>129.683</td>\n",
       "    </tr>\n",
       "    <tr>\n",
       "      <th>137155</th>\n",
       "      <td>0.0</td>\n",
       "      <td>0.0</td>\n",
       "      <td>148978.0</td>\n",
       "      <td>0.8360</td>\n",
       "      <td>0.1860</td>\n",
       "      <td>0.835</td>\n",
       "      <td>0.5300</td>\n",
       "      <td>0.000056</td>\n",
       "      <td>2.0</td>\n",
       "      <td>0.0402</td>\n",
       "      <td>-13.199</td>\n",
       "      <td>0.0374</td>\n",
       "      <td>111.036</td>\n",
       "    </tr>\n",
       "    <tr>\n",
       "      <th>...</th>\n",
       "      <td>...</td>\n",
       "      <td>...</td>\n",
       "      <td>...</td>\n",
       "      <td>...</td>\n",
       "      <td>...</td>\n",
       "      <td>...</td>\n",
       "      <td>...</td>\n",
       "      <td>...</td>\n",
       "      <td>...</td>\n",
       "      <td>...</td>\n",
       "      <td>...</td>\n",
       "      <td>...</td>\n",
       "      <td>...</td>\n",
       "    </tr>\n",
       "    <tr>\n",
       "      <th>86396</th>\n",
       "      <td>0.0</td>\n",
       "      <td>0.0</td>\n",
       "      <td>97160.0</td>\n",
       "      <td>0.0344</td>\n",
       "      <td>0.9900</td>\n",
       "      <td>0.287</td>\n",
       "      <td>0.0223</td>\n",
       "      <td>0.678000</td>\n",
       "      <td>5.0</td>\n",
       "      <td>0.1340</td>\n",
       "      <td>-33.422</td>\n",
       "      <td>0.0345</td>\n",
       "      <td>93.215</td>\n",
       "    </tr>\n",
       "    <tr>\n",
       "      <th>131368</th>\n",
       "      <td>0.0</td>\n",
       "      <td>0.0</td>\n",
       "      <td>156933.0</td>\n",
       "      <td>0.4350</td>\n",
       "      <td>0.0826</td>\n",
       "      <td>0.199</td>\n",
       "      <td>0.7500</td>\n",
       "      <td>0.857000</td>\n",
       "      <td>7.0</td>\n",
       "      <td>0.3390</td>\n",
       "      <td>-2.733</td>\n",
       "      <td>0.0340</td>\n",
       "      <td>142.722</td>\n",
       "    </tr>\n",
       "    <tr>\n",
       "      <th>157907</th>\n",
       "      <td>0.0</td>\n",
       "      <td>0.0</td>\n",
       "      <td>149427.0</td>\n",
       "      <td>0.7730</td>\n",
       "      <td>0.8330</td>\n",
       "      <td>0.466</td>\n",
       "      <td>0.3750</td>\n",
       "      <td>0.000026</td>\n",
       "      <td>8.0</td>\n",
       "      <td>0.1180</td>\n",
       "      <td>-11.877</td>\n",
       "      <td>0.0450</td>\n",
       "      <td>198.435</td>\n",
       "    </tr>\n",
       "    <tr>\n",
       "      <th>70677</th>\n",
       "      <td>0.0</td>\n",
       "      <td>0.0</td>\n",
       "      <td>256027.0</td>\n",
       "      <td>0.1700</td>\n",
       "      <td>0.2700</td>\n",
       "      <td>0.554</td>\n",
       "      <td>0.4080</td>\n",
       "      <td>0.000007</td>\n",
       "      <td>0.0</td>\n",
       "      <td>0.2600</td>\n",
       "      <td>-10.609</td>\n",
       "      <td>0.0317</td>\n",
       "      <td>111.821</td>\n",
       "    </tr>\n",
       "    <tr>\n",
       "      <th>63765</th>\n",
       "      <td>0.0</td>\n",
       "      <td>1.0</td>\n",
       "      <td>141893.0</td>\n",
       "      <td>0.7220</td>\n",
       "      <td>0.6890</td>\n",
       "      <td>0.657</td>\n",
       "      <td>0.4710</td>\n",
       "      <td>0.539000</td>\n",
       "      <td>11.0</td>\n",
       "      <td>0.1170</td>\n",
       "      <td>-20.956</td>\n",
       "      <td>0.0985</td>\n",
       "      <td>151.246</td>\n",
       "    </tr>\n",
       "  </tbody>\n",
       "</table>\n",
       "<p>102391 rows × 13 columns</p>\n",
       "</div>"
      ],
      "text/plain": [
       "        encoder__Explicite_Oui  encoder__Mode_Mineur  remainder__Durée  \\\n",
       "70892                      0.0                   0.0          295800.0   \n",
       "113823                     0.0                   0.0          179000.0   \n",
       "141052                     0.0                   0.0          201053.0   \n",
       "50145                      0.0                   0.0          204507.0   \n",
       "137155                     0.0                   0.0          148978.0   \n",
       "...                        ...                   ...               ...   \n",
       "86396                      0.0                   0.0           97160.0   \n",
       "131368                     0.0                   0.0          156933.0   \n",
       "157907                     0.0                   0.0          149427.0   \n",
       "70677                      0.0                   0.0          256027.0   \n",
       "63765                      0.0                   1.0          141893.0   \n",
       "\n",
       "        remainder__Valence  remainder__Acoustique  remainder__Dansant  \\\n",
       "70892               0.6480                 0.0102               0.481   \n",
       "113823              0.6010                 0.4660               0.672   \n",
       "141052              0.3580                 0.9710               0.177   \n",
       "50145               0.1690                 0.9220               0.349   \n",
       "137155              0.8360                 0.1860               0.835   \n",
       "...                    ...                    ...                 ...   \n",
       "86396               0.0344                 0.9900               0.287   \n",
       "131368              0.4350                 0.0826               0.199   \n",
       "157907              0.7730                 0.8330               0.466   \n",
       "70677               0.1700                 0.2700               0.554   \n",
       "63765               0.7220                 0.6890               0.657   \n",
       "\n",
       "        remainder__Énergie  remainder__Instrumental  remainder__Tonalité  \\\n",
       "70892               0.7820                 0.000002                  8.0   \n",
       "113823              0.0655                 0.000031                  9.0   \n",
       "141052              0.3560                 0.187000                  1.0   \n",
       "50145               0.2000                 0.000038                  0.0   \n",
       "137155              0.5300                 0.000056                  2.0   \n",
       "...                    ...                      ...                  ...   \n",
       "86396               0.0223                 0.678000                  5.0   \n",
       "131368              0.7500                 0.857000                  7.0   \n",
       "157907              0.3750                 0.000026                  8.0   \n",
       "70677               0.4080                 0.000007                  0.0   \n",
       "63765               0.4710                 0.539000                 11.0   \n",
       "\n",
       "        remainder__Direct  remainder__Intensité  remainder__Discours  \\\n",
       "70892              0.1270                -8.145               0.0717   \n",
       "113823             0.1200               -22.342               0.0564   \n",
       "141052             0.2790               -10.753               0.0373   \n",
       "50145              0.1240               -15.878               0.0304   \n",
       "137155             0.0402               -13.199               0.0374   \n",
       "...                   ...                   ...                  ...   \n",
       "86396              0.1340               -33.422               0.0345   \n",
       "131368             0.3390                -2.733               0.0340   \n",
       "157907             0.1180               -11.877               0.0450   \n",
       "70677              0.2600               -10.609               0.0317   \n",
       "63765              0.1170               -20.956               0.0985   \n",
       "\n",
       "        remainder__Tempo  \n",
       "70892            169.985  \n",
       "113823           133.797  \n",
       "141052            85.286  \n",
       "50145            129.683  \n",
       "137155           111.036  \n",
       "...                  ...  \n",
       "86396             93.215  \n",
       "131368           142.722  \n",
       "157907           198.435  \n",
       "70677            111.821  \n",
       "63765            151.246  \n",
       "\n",
       "[102391 rows x 13 columns]"
      ]
     },
     "execution_count": 24,
     "metadata": {},
     "output_type": "execute_result"
    }
   ],
   "source": [
    "X_train"
   ]
  },
  {
   "cell_type": "markdown",
   "id": "e00d4574",
   "metadata": {},
   "source": [
    "#### Standariser les variables explicatives\n"
   ]
  },
  {
   "cell_type": "code",
   "execution_count": 25,
   "id": "967cc33d",
   "metadata": {},
   "outputs": [],
   "source": [
    "#ici on utilise RobustScalar qui est moins sensible aux valeurs extrêmes\n",
    "transformer = RobustScaler().fit(X_train)"
   ]
  },
  {
   "cell_type": "code",
   "execution_count": 26,
   "id": "ef287cbf",
   "metadata": {},
   "outputs": [],
   "source": [
    "# Application tous les échantillons\n",
    "X_train = transformer.transform(X_train)\n",
    "X_val = transformer.transform(X_val)\n",
    "X_test = transformer.transform(X_test)"
   ]
  },
  {
   "cell_type": "code",
   "execution_count": 27,
   "id": "6a0bc56b",
   "metadata": {},
   "outputs": [],
   "source": [
    "# Conversion en dataframe\n",
    "X_train = pd.DataFrame(X_train, columns = colonnes_apres_encodage, index = index_train)\n",
    "X_val = pd.DataFrame(X_val, columns = colonnes_apres_encodage, index = index_val)\n",
    "X_test = pd.DataFrame(X_test, columns = colonnes_apres_encodage, index = index_test)"
   ]
  },
  {
   "cell_type": "code",
   "execution_count": 28,
   "id": "40ff5456",
   "metadata": {},
   "outputs": [
    {
     "data": {
      "text/html": [
       "<div>\n",
       "<style scoped>\n",
       "    .dataframe tbody tr th:only-of-type {\n",
       "        vertical-align: middle;\n",
       "    }\n",
       "\n",
       "    .dataframe tbody tr th {\n",
       "        vertical-align: top;\n",
       "    }\n",
       "\n",
       "    .dataframe thead th {\n",
       "        text-align: right;\n",
       "    }\n",
       "</style>\n",
       "<table border=\"1\" class=\"dataframe\">\n",
       "  <thead>\n",
       "    <tr style=\"text-align: right;\">\n",
       "      <th></th>\n",
       "      <th>encoder__Explicite_Oui</th>\n",
       "      <th>encoder__Mode_Mineur</th>\n",
       "      <th>remainder__Durée</th>\n",
       "      <th>remainder__Valence</th>\n",
       "      <th>remainder__Acoustique</th>\n",
       "      <th>remainder__Dansant</th>\n",
       "      <th>remainder__Énergie</th>\n",
       "      <th>remainder__Instrumental</th>\n",
       "      <th>remainder__Tonalité</th>\n",
       "      <th>remainder__Direct</th>\n",
       "      <th>remainder__Intensité</th>\n",
       "      <th>remainder__Discours</th>\n",
       "      <th>remainder__Tempo</th>\n",
       "    </tr>\n",
       "  </thead>\n",
       "  <tbody>\n",
       "    <tr>\n",
       "      <th>69125</th>\n",
       "      <td>0.0</td>\n",
       "      <td>0.0</td>\n",
       "      <td>-0.003166</td>\n",
       "      <td>-0.180288</td>\n",
       "      <td>-0.145939</td>\n",
       "      <td>0.388664</td>\n",
       "      <td>-0.205950</td>\n",
       "      <td>-0.002285</td>\n",
       "      <td>0.000000</td>\n",
       "      <td>1.111801</td>\n",
       "      <td>-0.438282</td>\n",
       "      <td>0.000000</td>\n",
       "      <td>-0.150753</td>\n",
       "    </tr>\n",
       "    <tr>\n",
       "      <th>19786</th>\n",
       "      <td>1.0</td>\n",
       "      <td>1.0</td>\n",
       "      <td>-0.053890</td>\n",
       "      <td>0.064904</td>\n",
       "      <td>0.000000</td>\n",
       "      <td>1.145749</td>\n",
       "      <td>0.340961</td>\n",
       "      <td>-0.002317</td>\n",
       "      <td>0.166667</td>\n",
       "      <td>-0.105590</td>\n",
       "      <td>0.311860</td>\n",
       "      <td>7.813333</td>\n",
       "      <td>0.434373</td>\n",
       "    </tr>\n",
       "    <tr>\n",
       "      <th>130015</th>\n",
       "      <td>0.0</td>\n",
       "      <td>0.0</td>\n",
       "      <td>-0.534977</td>\n",
       "      <td>0.788462</td>\n",
       "      <td>-0.562563</td>\n",
       "      <td>0.303644</td>\n",
       "      <td>0.897025</td>\n",
       "      <td>-0.002317</td>\n",
       "      <td>0.166667</td>\n",
       "      <td>0.012422</td>\n",
       "      <td>0.544511</td>\n",
       "      <td>-0.056000</td>\n",
       "      <td>0.318800</td>\n",
       "    </tr>\n",
       "    <tr>\n",
       "      <th>92314</th>\n",
       "      <td>1.0</td>\n",
       "      <td>0.0</td>\n",
       "      <td>0.049146</td>\n",
       "      <td>-0.204327</td>\n",
       "      <td>-0.628807</td>\n",
       "      <td>0.797571</td>\n",
       "      <td>0.274600</td>\n",
       "      <td>-0.002317</td>\n",
       "      <td>-0.666667</td>\n",
       "      <td>-0.099379</td>\n",
       "      <td>0.662969</td>\n",
       "      <td>3.840000</td>\n",
       "      <td>0.928834</td>\n",
       "    </tr>\n",
       "    <tr>\n",
       "      <th>101456</th>\n",
       "      <td>0.0</td>\n",
       "      <td>0.0</td>\n",
       "      <td>-0.149416</td>\n",
       "      <td>0.000000</td>\n",
       "      <td>-0.058376</td>\n",
       "      <td>-0.267206</td>\n",
       "      <td>0.016018</td>\n",
       "      <td>0.018406</td>\n",
       "      <td>0.000000</td>\n",
       "      <td>0.565217</td>\n",
       "      <td>0.214733</td>\n",
       "      <td>-0.506667</td>\n",
       "      <td>-0.653564</td>\n",
       "    </tr>\n",
       "    <tr>\n",
       "      <th>...</th>\n",
       "      <td>...</td>\n",
       "      <td>...</td>\n",
       "      <td>...</td>\n",
       "      <td>...</td>\n",
       "      <td>...</td>\n",
       "      <td>...</td>\n",
       "      <td>...</td>\n",
       "      <td>...</td>\n",
       "      <td>...</td>\n",
       "      <td>...</td>\n",
       "      <td>...</td>\n",
       "      <td>...</td>\n",
       "      <td>...</td>\n",
       "    </tr>\n",
       "    <tr>\n",
       "      <th>110021</th>\n",
       "      <td>0.0</td>\n",
       "      <td>1.0</td>\n",
       "      <td>-0.063832</td>\n",
       "      <td>-0.978365</td>\n",
       "      <td>0.590102</td>\n",
       "      <td>-0.469636</td>\n",
       "      <td>-0.782609</td>\n",
       "      <td>0.011498</td>\n",
       "      <td>0.000000</td>\n",
       "      <td>-0.173913</td>\n",
       "      <td>-0.690415</td>\n",
       "      <td>-0.309333</td>\n",
       "      <td>-0.296501</td>\n",
       "    </tr>\n",
       "    <tr>\n",
       "      <th>106959</th>\n",
       "      <td>0.0</td>\n",
       "      <td>0.0</td>\n",
       "      <td>-0.274183</td>\n",
       "      <td>-0.853365</td>\n",
       "      <td>0.437817</td>\n",
       "      <td>0.761134</td>\n",
       "      <td>-0.398169</td>\n",
       "      <td>-0.002158</td>\n",
       "      <td>-0.500000</td>\n",
       "      <td>-0.466460</td>\n",
       "      <td>0.133959</td>\n",
       "      <td>-0.269333</td>\n",
       "      <td>0.260752</td>\n",
       "    </tr>\n",
       "    <tr>\n",
       "      <th>89694</th>\n",
       "      <td>0.0</td>\n",
       "      <td>0.0</td>\n",
       "      <td>-0.185573</td>\n",
       "      <td>0.762019</td>\n",
       "      <td>-0.619289</td>\n",
       "      <td>0.773279</td>\n",
       "      <td>0.835240</td>\n",
       "      <td>-0.002317</td>\n",
       "      <td>-0.166667</td>\n",
       "      <td>2.223602</td>\n",
       "      <td>0.875569</td>\n",
       "      <td>-0.381333</td>\n",
       "      <td>0.121978</td>\n",
       "    </tr>\n",
       "    <tr>\n",
       "      <th>32335</th>\n",
       "      <td>0.0</td>\n",
       "      <td>0.0</td>\n",
       "      <td>0.115982</td>\n",
       "      <td>0.935096</td>\n",
       "      <td>-0.529188</td>\n",
       "      <td>0.712551</td>\n",
       "      <td>0.704805</td>\n",
       "      <td>0.013836</td>\n",
       "      <td>0.666667</td>\n",
       "      <td>-0.043478</td>\n",
       "      <td>0.078783</td>\n",
       "      <td>-0.213333</td>\n",
       "      <td>0.215277</td>\n",
       "    </tr>\n",
       "    <tr>\n",
       "      <th>123602</th>\n",
       "      <td>0.0</td>\n",
       "      <td>0.0</td>\n",
       "      <td>1.880993</td>\n",
       "      <td>-1.180529</td>\n",
       "      <td>0.269036</td>\n",
       "      <td>0.773279</td>\n",
       "      <td>-0.384439</td>\n",
       "      <td>0.000670</td>\n",
       "      <td>-0.166667</td>\n",
       "      <td>0.645963</td>\n",
       "      <td>-0.198521</td>\n",
       "      <td>-0.341333</td>\n",
       "      <td>0.192812</td>\n",
       "    </tr>\n",
       "  </tbody>\n",
       "</table>\n",
       "<p>34131 rows × 13 columns</p>\n",
       "</div>"
      ],
      "text/plain": [
       "        encoder__Explicite_Oui  encoder__Mode_Mineur  remainder__Durée  \\\n",
       "69125                      0.0                   0.0         -0.003166   \n",
       "19786                      1.0                   1.0         -0.053890   \n",
       "130015                     0.0                   0.0         -0.534977   \n",
       "92314                      1.0                   0.0          0.049146   \n",
       "101456                     0.0                   0.0         -0.149416   \n",
       "...                        ...                   ...               ...   \n",
       "110021                     0.0                   1.0         -0.063832   \n",
       "106959                     0.0                   0.0         -0.274183   \n",
       "89694                      0.0                   0.0         -0.185573   \n",
       "32335                      0.0                   0.0          0.115982   \n",
       "123602                     0.0                   0.0          1.880993   \n",
       "\n",
       "        remainder__Valence  remainder__Acoustique  remainder__Dansant  \\\n",
       "69125            -0.180288              -0.145939            0.388664   \n",
       "19786             0.064904               0.000000            1.145749   \n",
       "130015            0.788462              -0.562563            0.303644   \n",
       "92314            -0.204327              -0.628807            0.797571   \n",
       "101456            0.000000              -0.058376           -0.267206   \n",
       "...                    ...                    ...                 ...   \n",
       "110021           -0.978365               0.590102           -0.469636   \n",
       "106959           -0.853365               0.437817            0.761134   \n",
       "89694             0.762019              -0.619289            0.773279   \n",
       "32335             0.935096              -0.529188            0.712551   \n",
       "123602           -1.180529               0.269036            0.773279   \n",
       "\n",
       "        remainder__Énergie  remainder__Instrumental  remainder__Tonalité  \\\n",
       "69125            -0.205950                -0.002285             0.000000   \n",
       "19786             0.340961                -0.002317             0.166667   \n",
       "130015            0.897025                -0.002317             0.166667   \n",
       "92314             0.274600                -0.002317            -0.666667   \n",
       "101456            0.016018                 0.018406             0.000000   \n",
       "...                    ...                      ...                  ...   \n",
       "110021           -0.782609                 0.011498             0.000000   \n",
       "106959           -0.398169                -0.002158            -0.500000   \n",
       "89694             0.835240                -0.002317            -0.166667   \n",
       "32335             0.704805                 0.013836             0.666667   \n",
       "123602           -0.384439                 0.000670            -0.166667   \n",
       "\n",
       "        remainder__Direct  remainder__Intensité  remainder__Discours  \\\n",
       "69125            1.111801             -0.438282             0.000000   \n",
       "19786           -0.105590              0.311860             7.813333   \n",
       "130015           0.012422              0.544511            -0.056000   \n",
       "92314           -0.099379              0.662969             3.840000   \n",
       "101456           0.565217              0.214733            -0.506667   \n",
       "...                   ...                   ...                  ...   \n",
       "110021          -0.173913             -0.690415            -0.309333   \n",
       "106959          -0.466460              0.133959            -0.269333   \n",
       "89694            2.223602              0.875569            -0.381333   \n",
       "32335           -0.043478              0.078783            -0.213333   \n",
       "123602           0.645963             -0.198521            -0.341333   \n",
       "\n",
       "        remainder__Tempo  \n",
       "69125          -0.150753  \n",
       "19786           0.434373  \n",
       "130015          0.318800  \n",
       "92314           0.928834  \n",
       "101456         -0.653564  \n",
       "...                  ...  \n",
       "110021         -0.296501  \n",
       "106959          0.260752  \n",
       "89694           0.121978  \n",
       "32335           0.215277  \n",
       "123602          0.192812  \n",
       "\n",
       "[34131 rows x 13 columns]"
      ]
     },
     "execution_count": 28,
     "metadata": {},
     "output_type": "execute_result"
    }
   ],
   "source": [
    "X_test"
   ]
  },
  {
   "cell_type": "markdown",
   "id": "0ff7df4c",
   "metadata": {},
   "source": [
    "#### Apprentissage du modèle\n",
    "##### Modèle 1. régression linéaire\n",
    "##### Modèle 2. régression Ridge\n",
    "#### Modèle 3. régression Lasso\n",
    "\n"
   ]
  },
  {
   "cell_type": "code",
   "execution_count": 29,
   "id": "5c1151c5",
   "metadata": {},
   "outputs": [],
   "source": [
    "from sklearn.linear_model import LinearRegression\n",
    "from sklearn.metrics import mean_absolute_error as mae\n",
    "from sklearn.metrics import r2_score, mean_squared_error as mse\n"
   ]
  },
  {
   "cell_type": "code",
   "execution_count": 30,
   "id": "99c8ada5",
   "metadata": {},
   "outputs": [],
   "source": [
    "#l'entraînement de modèle\n",
    "modele_lin = LinearRegression().fit(X_train, y_train)"
   ]
  },
  {
   "cell_type": "code",
   "execution_count": 31,
   "id": "be803cf6",
   "metadata": {},
   "outputs": [],
   "source": [
    "#validation du modèle\n",
    "#nous allons comparer y_pred (générer par le modèle) avec y_val (les vrais données)\n",
    "y_pred = modele_lin.predict(X_val)"
   ]
  },
  {
   "cell_type": "code",
   "execution_count": 32,
   "id": "b133c3c3",
   "metadata": {},
   "outputs": [
    {
     "name": "stdout",
     "output_type": "stream",
     "text": [
      "La moyenne absolue des erreurs est de 13.179236668961797\n"
     ]
    }
   ],
   "source": [
    "erreur = mae(y_val, y_pred)\n",
    "\n",
    "print(\"La moyenne absolue des erreurs est de {0}\".format(erreur))"
   ]
  },
  {
   "cell_type": "code",
   "execution_count": 33,
   "id": "cc219c04",
   "metadata": {},
   "outputs": [
    {
     "name": "stdout",
     "output_type": "stream",
     "text": [
      "R2 du modèle linéeaire est de 0.44116365051039275\n"
     ]
    }
   ],
   "source": [
    "score_r2_linéaire = r2_score(y_val, y_pred)\n",
    "print(\"R2 du modèle linéeaire est de {0}\".format(score_r2_linéaire ))"
   ]
  },
  {
   "cell_type": "code",
   "execution_count": 34,
   "id": "b8a893f6",
   "metadata": {},
   "outputs": [
    {
     "name": "stdout",
     "output_type": "stream",
     "text": [
      "RMSE est de 267.8902122415554\n"
     ]
    }
   ],
   "source": [
    "RMSE_linéaire = mse(y_val,y_pred)\n",
    "print(\"RMSE est de {0}\".format(RMSE_linéaire))"
   ]
  },
  {
   "cell_type": "code",
   "execution_count": 35,
   "id": "e0089d7e",
   "metadata": {},
   "outputs": [
    {
     "data": {
      "text/html": [
       "<div>\n",
       "<style scoped>\n",
       "    .dataframe tbody tr th:only-of-type {\n",
       "        vertical-align: middle;\n",
       "    }\n",
       "\n",
       "    .dataframe tbody tr th {\n",
       "        vertical-align: top;\n",
       "    }\n",
       "\n",
       "    .dataframe thead th {\n",
       "        text-align: right;\n",
       "    }\n",
       "</style>\n",
       "<table border=\"1\" class=\"dataframe\">\n",
       "  <thead>\n",
       "    <tr style=\"text-align: right;\">\n",
       "      <th></th>\n",
       "      <th>Vrai popularité</th>\n",
       "      <th>Popularité prédite</th>\n",
       "      <th>Différence relative</th>\n",
       "    </tr>\n",
       "  </thead>\n",
       "  <tbody>\n",
       "    <tr>\n",
       "      <th>28733</th>\n",
       "      <td>48</td>\n",
       "      <td>35.704017</td>\n",
       "      <td>-12.295983</td>\n",
       "    </tr>\n",
       "    <tr>\n",
       "      <th>52397</th>\n",
       "      <td>52</td>\n",
       "      <td>45.869200</td>\n",
       "      <td>-6.130800</td>\n",
       "    </tr>\n",
       "    <tr>\n",
       "      <th>120202</th>\n",
       "      <td>36</td>\n",
       "      <td>22.732534</td>\n",
       "      <td>-13.267466</td>\n",
       "    </tr>\n",
       "    <tr>\n",
       "      <th>163706</th>\n",
       "      <td>24</td>\n",
       "      <td>43.570200</td>\n",
       "      <td>19.570200</td>\n",
       "    </tr>\n",
       "    <tr>\n",
       "      <th>75588</th>\n",
       "      <td>0</td>\n",
       "      <td>10.630683</td>\n",
       "      <td>10.630683</td>\n",
       "    </tr>\n",
       "    <tr>\n",
       "      <th>100048</th>\n",
       "      <td>26</td>\n",
       "      <td>43.348215</td>\n",
       "      <td>17.348215</td>\n",
       "    </tr>\n",
       "    <tr>\n",
       "      <th>136558</th>\n",
       "      <td>42</td>\n",
       "      <td>43.621979</td>\n",
       "      <td>1.621979</td>\n",
       "    </tr>\n",
       "    <tr>\n",
       "      <th>42485</th>\n",
       "      <td>0</td>\n",
       "      <td>19.530829</td>\n",
       "      <td>19.530829</td>\n",
       "    </tr>\n",
       "    <tr>\n",
       "      <th>133297</th>\n",
       "      <td>32</td>\n",
       "      <td>13.853380</td>\n",
       "      <td>-18.146620</td>\n",
       "    </tr>\n",
       "    <tr>\n",
       "      <th>50174</th>\n",
       "      <td>52</td>\n",
       "      <td>43.716092</td>\n",
       "      <td>-8.283908</td>\n",
       "    </tr>\n",
       "  </tbody>\n",
       "</table>\n",
       "</div>"
      ],
      "text/plain": [
       "        Vrai popularité  Popularité prédite  Différence relative\n",
       "28733                48           35.704017           -12.295983\n",
       "52397                52           45.869200            -6.130800\n",
       "120202               36           22.732534           -13.267466\n",
       "163706               24           43.570200            19.570200\n",
       "75588                 0           10.630683            10.630683\n",
       "100048               26           43.348215            17.348215\n",
       "136558               42           43.621979             1.621979\n",
       "42485                 0           19.530829            19.530829\n",
       "133297               32           13.853380           -18.146620\n",
       "50174                52           43.716092            -8.283908"
      ]
     },
     "execution_count": 35,
     "metadata": {},
     "output_type": "execute_result"
    }
   ],
   "source": [
    "resultats = pd.DataFrame({\"Vrai popularité\": y_val, \"Popularité prédite\": y_pred})\n",
    "#resultats['Différence relative'] = ( resultats[\"Vrai popularité\"] - resultats[\"Popularité prédite\"]) / resultats[\"Popularité prédite\"]\n",
    "resultats['Différence relative'] = ( resultats[\"Popularité prédite\"] - resultats[\"Vrai popularité\"])# / resultats[\"Vrai popularité\"]\n",
    "resultats.head(10)"
   ]
  },
  {
   "cell_type": "code",
   "execution_count": 36,
   "id": "44d528f8",
   "metadata": {},
   "outputs": [
    {
     "data": {
      "text/html": [
       "<div>\n",
       "<style scoped>\n",
       "    .dataframe tbody tr th:only-of-type {\n",
       "        vertical-align: middle;\n",
       "    }\n",
       "\n",
       "    .dataframe tbody tr th {\n",
       "        vertical-align: top;\n",
       "    }\n",
       "\n",
       "    .dataframe thead th {\n",
       "        text-align: right;\n",
       "    }\n",
       "</style>\n",
       "<table border=\"1\" class=\"dataframe\">\n",
       "  <thead>\n",
       "    <tr style=\"text-align: right;\">\n",
       "      <th></th>\n",
       "      <th>Vrai popularité</th>\n",
       "      <th>Popularité prédite</th>\n",
       "      <th>Différence relative</th>\n",
       "    </tr>\n",
       "  </thead>\n",
       "  <tbody>\n",
       "    <tr>\n",
       "      <th>38500</th>\n",
       "      <td>79</td>\n",
       "      <td>-6.811982</td>\n",
       "      <td>-85.811982</td>\n",
       "    </tr>\n",
       "    <tr>\n",
       "      <th>19038</th>\n",
       "      <td>79</td>\n",
       "      <td>9.769520</td>\n",
       "      <td>-69.230480</td>\n",
       "    </tr>\n",
       "    <tr>\n",
       "      <th>170056</th>\n",
       "      <td>67</td>\n",
       "      <td>0.887652</td>\n",
       "      <td>-66.112348</td>\n",
       "    </tr>\n",
       "    <tr>\n",
       "      <th>38356</th>\n",
       "      <td>76</td>\n",
       "      <td>9.904414</td>\n",
       "      <td>-66.095586</td>\n",
       "    </tr>\n",
       "    <tr>\n",
       "      <th>170647</th>\n",
       "      <td>70</td>\n",
       "      <td>4.470365</td>\n",
       "      <td>-65.529635</td>\n",
       "    </tr>\n",
       "    <tr>\n",
       "      <th>...</th>\n",
       "      <td>...</td>\n",
       "      <td>...</td>\n",
       "      <td>...</td>\n",
       "    </tr>\n",
       "    <tr>\n",
       "      <th>57314</th>\n",
       "      <td>3</td>\n",
       "      <td>62.879444</td>\n",
       "      <td>59.879444</td>\n",
       "    </tr>\n",
       "    <tr>\n",
       "      <th>154451</th>\n",
       "      <td>0</td>\n",
       "      <td>60.427852</td>\n",
       "      <td>60.427852</td>\n",
       "    </tr>\n",
       "    <tr>\n",
       "      <th>38747</th>\n",
       "      <td>0</td>\n",
       "      <td>64.016776</td>\n",
       "      <td>64.016776</td>\n",
       "    </tr>\n",
       "    <tr>\n",
       "      <th>120851</th>\n",
       "      <td>0</td>\n",
       "      <td>65.444607</td>\n",
       "      <td>65.444607</td>\n",
       "    </tr>\n",
       "    <tr>\n",
       "      <th>124573</th>\n",
       "      <td>1</td>\n",
       "      <td>67.018224</td>\n",
       "      <td>66.018224</td>\n",
       "    </tr>\n",
       "  </tbody>\n",
       "</table>\n",
       "<p>34131 rows × 3 columns</p>\n",
       "</div>"
      ],
      "text/plain": [
       "        Vrai popularité  Popularité prédite  Différence relative\n",
       "38500                79           -6.811982           -85.811982\n",
       "19038                79            9.769520           -69.230480\n",
       "170056               67            0.887652           -66.112348\n",
       "38356                76            9.904414           -66.095586\n",
       "170647               70            4.470365           -65.529635\n",
       "...                 ...                 ...                  ...\n",
       "57314                 3           62.879444            59.879444\n",
       "154451                0           60.427852            60.427852\n",
       "38747                 0           64.016776            64.016776\n",
       "120851                0           65.444607            65.444607\n",
       "124573                1           67.018224            66.018224\n",
       "\n",
       "[34131 rows x 3 columns]"
      ]
     },
     "execution_count": 36,
     "metadata": {},
     "output_type": "execute_result"
    }
   ],
   "source": [
    "resultats.sort_values(\"Différence relative\")"
   ]
  },
  {
   "cell_type": "code",
   "execution_count": 37,
   "id": "c86c349a",
   "metadata": {},
   "outputs": [],
   "source": [
    "from sklearn.linear_model import Ridge, RidgeCV, Lasso, LassoCV\n",
    "from sklearn.metrics import mean_squared_error"
   ]
  },
  {
   "cell_type": "markdown",
   "id": "f6d727c9",
   "metadata": {},
   "source": [
    "### Régression Ridge\n"
   ]
  },
  {
   "cell_type": "code",
   "execution_count": 59,
   "id": "87ecc3f2",
   "metadata": {},
   "outputs": [],
   "source": [
    "# une liste d'alpha ayant une valeur plus élevée\n",
    "r_alphas = np.logspace(5, 10, 100)\n",
    "ridge_model = RidgeCV(alphas=r_alphas, scoring='r2')\n",
    "ridge_model = ridge_model.fit(X_train, y_train)\n"
   ]
  },
  {
   "cell_type": "code",
   "execution_count": 60,
   "id": "225fba19",
   "metadata": {},
   "outputs": [],
   "source": [
    "y_pred_ridge = ridge_model.predict(X_val)"
   ]
  },
  {
   "cell_type": "code",
   "execution_count": 61,
   "id": "721c776e",
   "metadata": {},
   "outputs": [
    {
     "name": "stdout",
     "output_type": "stream",
     "text": [
      "La moyenne absolue des erreurs est de 15.195708857157268\n"
     ]
    }
   ],
   "source": [
    "erreur_ridge = mae(y_val, y_pred_ridge)\n",
    "\n",
    "print(\"La moyenne absolue des erreurs est de {0}\".format(erreur_ridge))"
   ]
  },
  {
   "cell_type": "code",
   "execution_count": 62,
   "id": "0e8a35d5",
   "metadata": {},
   "outputs": [
    {
     "name": "stdout",
     "output_type": "stream",
     "text": [
      "alpha: 100000.000000\n"
     ]
    }
   ],
   "source": [
    "print('alpha: %f' % ridge_model.alpha_)"
   ]
  },
  {
   "cell_type": "code",
   "execution_count": 63,
   "id": "a8fdfec3",
   "metadata": {},
   "outputs": [
    {
     "name": "stdout",
     "output_type": "stream",
     "text": [
      "[1.00000000e+05 1.12332403e+05 1.26185688e+05 1.41747416e+05\n",
      " 1.59228279e+05 1.78864953e+05 2.00923300e+05 2.25701972e+05\n",
      " 2.53536449e+05 2.84803587e+05 3.19926714e+05 3.59381366e+05\n",
      " 4.03701726e+05 4.53487851e+05 5.09413801e+05 5.72236766e+05\n",
      " 6.42807312e+05 7.22080902e+05 8.11130831e+05 9.11162756e+05\n",
      " 1.02353102e+06 1.14975700e+06 1.29154967e+06 1.45082878e+06\n",
      " 1.62975083e+06 1.83073828e+06 2.05651231e+06 2.31012970e+06\n",
      " 2.59502421e+06 2.91505306e+06 3.27454916e+06 3.67837977e+06\n",
      " 4.13201240e+06 4.64158883e+06 5.21400829e+06 5.85702082e+06\n",
      " 6.57933225e+06 7.39072203e+06 8.30217568e+06 9.32603347e+06\n",
      " 1.04761575e+07 1.17681195e+07 1.32194115e+07 1.48496826e+07\n",
      " 1.66810054e+07 1.87381742e+07 2.10490414e+07 2.36448941e+07\n",
      " 2.65608778e+07 2.98364724e+07 3.35160265e+07 3.76493581e+07\n",
      " 4.22924287e+07 4.75081016e+07 5.33669923e+07 5.99484250e+07\n",
      " 6.73415066e+07 7.56463328e+07 8.49753436e+07 9.54548457e+07\n",
      " 1.07226722e+08 1.20450354e+08 1.35304777e+08 1.51991108e+08\n",
      " 1.70735265e+08 1.91791026e+08 2.15443469e+08 2.42012826e+08\n",
      " 2.71858824e+08 3.05385551e+08 3.43046929e+08 3.85352859e+08\n",
      " 4.32876128e+08 4.86260158e+08 5.46227722e+08 6.13590727e+08\n",
      " 6.89261210e+08 7.74263683e+08 8.69749003e+08 9.77009957e+08\n",
      " 1.09749877e+09 1.23284674e+09 1.38488637e+09 1.55567614e+09\n",
      " 1.74752840e+09 1.96304065e+09 2.20513074e+09 2.47707636e+09\n",
      " 2.78255940e+09 3.12571585e+09 3.51119173e+09 3.94420606e+09\n",
      " 4.43062146e+09 4.97702356e+09 5.59081018e+09 6.28029144e+09\n",
      " 7.05480231e+09 7.92482898e+09 8.90215085e+09 1.00000000e+10]\n"
     ]
    }
   ],
   "source": [
    "print(r_alphas)"
   ]
  },
  {
   "cell_type": "code",
   "execution_count": 64,
   "id": "9c5edec7",
   "metadata": {},
   "outputs": [],
   "source": [
    "#essayer avec un alpha plus petit\n",
    "r_alphas_2 = np.arange(0.01, 1, 0.01)\n",
    "ridge_model_2 = RidgeCV(alphas=r_alphas_2, scoring='r2')"
   ]
  },
  {
   "cell_type": "code",
   "execution_count": 65,
   "id": "922f9255",
   "metadata": {},
   "outputs": [
    {
     "name": "stdout",
     "output_type": "stream",
     "text": [
      "[0.01 0.02 0.03 0.04 0.05 0.06 0.07 0.08 0.09 0.1  0.11 0.12 0.13 0.14\n",
      " 0.15 0.16 0.17 0.18 0.19 0.2  0.21 0.22 0.23 0.24 0.25 0.26 0.27 0.28\n",
      " 0.29 0.3  0.31 0.32 0.33 0.34 0.35 0.36 0.37 0.38 0.39 0.4  0.41 0.42\n",
      " 0.43 0.44 0.45 0.46 0.47 0.48 0.49 0.5  0.51 0.52 0.53 0.54 0.55 0.56\n",
      " 0.57 0.58 0.59 0.6  0.61 0.62 0.63 0.64 0.65 0.66 0.67 0.68 0.69 0.7\n",
      " 0.71 0.72 0.73 0.74 0.75 0.76 0.77 0.78 0.79 0.8  0.81 0.82 0.83 0.84\n",
      " 0.85 0.86 0.87 0.88 0.89 0.9  0.91 0.92 0.93 0.94 0.95 0.96 0.97 0.98\n",
      " 0.99]\n"
     ]
    }
   ],
   "source": [
    "print(r_alphas_2)"
   ]
  },
  {
   "cell_type": "code",
   "execution_count": 66,
   "id": "87bddef7",
   "metadata": {},
   "outputs": [],
   "source": [
    "ridge_model_2 = ridge_model_2.fit(X_train, y_train)\n"
   ]
  },
  {
   "cell_type": "code",
   "execution_count": 67,
   "id": "cd42ed44",
   "metadata": {},
   "outputs": [],
   "source": [
    "y_pred_ridge_2 = ridge_model_2.predict(X_val)"
   ]
  },
  {
   "cell_type": "code",
   "execution_count": 68,
   "id": "2c9ea495",
   "metadata": {},
   "outputs": [
    {
     "name": "stdout",
     "output_type": "stream",
     "text": [
      "La moyenne absolue des erreurs est de 13.179253224592612\n"
     ]
    }
   ],
   "source": [
    "erreur_ridge_2 = mae(y_val, y_pred_ridge_2)\n",
    "\n",
    "print(\"La moyenne absolue des erreurs est de {0}\".format(erreur_ridge_2))"
   ]
  },
  {
   "cell_type": "code",
   "execution_count": 69,
   "id": "b3ab0240",
   "metadata": {},
   "outputs": [
    {
     "name": "stdout",
     "output_type": "stream",
     "text": [
      "R2 du modèle Ridge est de 0.29526523628965673 avec un alpha plus grand\n",
      " et de 0.4411634373108376 avec un alpha plus petit\n"
     ]
    }
   ],
   "source": [
    "score_r2_ridge = r2_score(y_val, y_pred_ridge)\n",
    "score_r2_ridge_2 = r2_score(y_val, y_pred_ridge_2)\n",
    "print(\"R2 du modèle Ridge est de {0} avec un alpha plus grand\\n et de {1} avec un alpha plus petit\".format(score_r2_ridge,score_r2_ridge_2 ))"
   ]
  },
  {
   "cell_type": "code",
   "execution_count": 49,
   "id": "1404ecb3",
   "metadata": {},
   "outputs": [
    {
     "name": "stdout",
     "output_type": "stream",
     "text": [
      "RMSE est de 479.3635445051368\n"
     ]
    }
   ],
   "source": [
    "RMSE_ridge = mse(y_val,y_pred_ridge)\n",
    "print(\"RMSE est de {0}\".format(RMSE_ridge))"
   ]
  },
  {
   "cell_type": "markdown",
   "id": "77c0f138",
   "metadata": {},
   "source": [
    "### Régression Lasso\n"
   ]
  },
  {
   "cell_type": "code",
   "execution_count": 70,
   "id": "cce7dc0c",
   "metadata": {},
   "outputs": [],
   "source": [
    "l_alphas = np.logspace(5, 10, 100)\n",
    "lasso_model = LassoCV(alphas=r_alphas)\n",
    "lasso_model = lasso_model.fit(X_train, y_train)"
   ]
  },
  {
   "cell_type": "code",
   "execution_count": 71,
   "id": "65fa5dae",
   "metadata": {},
   "outputs": [],
   "source": [
    "y_pred_lasso = lasso_model.predict(X_val)"
   ]
  },
  {
   "cell_type": "code",
   "execution_count": 72,
   "id": "585fd989",
   "metadata": {},
   "outputs": [
    {
     "name": "stdout",
     "output_type": "stream",
     "text": [
      "La moyenne absolue des erreurs est de 18.589112780214787\n"
     ]
    }
   ],
   "source": [
    "erreur_lasso = mae(y_val, y_pred_lasso)\n",
    "\n",
    "print(\"La moyenne absolue des erreurs est de {0}\".format(erreur_lasso))"
   ]
  },
  {
   "cell_type": "code",
   "execution_count": 73,
   "id": "1804ecb4",
   "metadata": {},
   "outputs": [],
   "source": [
    "#essayer avec un alpha plus petit\n",
    "l_alphas_2 = np.arange(0.01, 1, 0.01)\n",
    "lasso_model_2 = LassoCV(alphas=r_alphas_2)"
   ]
  },
  {
   "cell_type": "code",
   "execution_count": 74,
   "id": "af731e44",
   "metadata": {},
   "outputs": [],
   "source": [
    "lasso_model_2 = lasso_model_2.fit(X_train, y_train)"
   ]
  },
  {
   "cell_type": "code",
   "execution_count": 75,
   "id": "02fd65a9",
   "metadata": {},
   "outputs": [],
   "source": [
    "y_pred_lasso_2 = lasso_model_2.predict(X_val)"
   ]
  },
  {
   "cell_type": "code",
   "execution_count": 76,
   "id": "48e2a4ae",
   "metadata": {},
   "outputs": [
    {
     "name": "stdout",
     "output_type": "stream",
     "text": [
      "La moyenne absolue des erreurs est de 13.181709520023764\n"
     ]
    }
   ],
   "source": [
    "erreur_lasso_2 = mae(y_val, y_pred_lasso_2)\n",
    "\n",
    "print(\"La moyenne absolue des erreurs est de {0}\".format(erreur_lasso_2))"
   ]
  },
  {
   "cell_type": "code",
   "execution_count": 77,
   "id": "0f659bd8",
   "metadata": {},
   "outputs": [
    {
     "name": "stdout",
     "output_type": "stream",
     "text": [
      "R2 du modèle Lasso est de -1.962038007174982e-05 avec un alpha plus grand\n",
      " et de 0.4411510987004281 avec un alpha plus petit\n"
     ]
    }
   ],
   "source": [
    "score_r2_lasso = r2_score(y_val, y_pred_lasso)\n",
    "score_r2_lasso_2 = r2_score(y_val, y_pred_lasso_2)\n",
    "print(\"R2 du modèle Lasso est de {0} avec un alpha plus grand\\n et de {1} avec un alpha plus petit\".format(score_r2_lasso,score_r2_lasso_2 ))"
   ]
  },
  {
   "cell_type": "code",
   "execution_count": 78,
   "id": "500c920b",
   "metadata": {},
   "outputs": [
    {
     "name": "stdout",
     "output_type": "stream",
     "text": [
      "RMSE est de 479.38089316131567\n"
     ]
    }
   ],
   "source": [
    "RMSE_lasso = mse(y_val,y_pred_lasso)\n",
    "print(\"RMSE est de {0}\".format(RMSE_lasso))"
   ]
  },
  {
   "cell_type": "markdown",
   "id": "4968a139",
   "metadata": {},
   "source": [
    "Il y a peu de différence entre la performance du modèle linéaire, du modèle Ridge et du modèle Lasso. En essayant de différentes valuers d'Alpha dans le modèle Ridge et le modèle Lasso, nous remarquons qu'un Alpha plus petit (signifiant que le modèle s'approche du modèle linéaire) produit un mae plus petit, ce qui correspond au fait que le modèle linéaire a un mae le plus petit parmis les 3 modèles choisis. \n",
    "Si on compare le mae et le score r2, on peut conclure que le modèle linéaire est légèrement plus performante que les 2 autres modèles.  "
   ]
  },
  {
   "cell_type": "code",
   "execution_count": null,
   "id": "de7db228",
   "metadata": {},
   "outputs": [],
   "source": []
  }
 ],
 "metadata": {
  "kernelspec": {
   "display_name": "Python 3 (ipykernel)",
   "language": "python",
   "name": "python3"
  },
  "language_info": {
   "codemirror_mode": {
    "name": "ipython",
    "version": 3
   },
   "file_extension": ".py",
   "mimetype": "text/x-python",
   "name": "python",
   "nbconvert_exporter": "python",
   "pygments_lexer": "ipython3",
   "version": "3.11.4"
  }
 },
 "nbformat": 4,
 "nbformat_minor": 5
}
